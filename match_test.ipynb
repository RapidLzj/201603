{
 "cells": [
  {
   "cell_type": "code",
   "execution_count": 1,
   "metadata": {
    "collapsed": true
   },
   "outputs": [],
   "source": [
    "import MySQLdb\n",
    "from star_match import star_match"
   ]
  },
  {
   "cell_type": "code",
   "execution_count": 2,
   "metadata": {
    "collapsed": true
   },
   "outputs": [],
   "source": [
    "conn = MySQLdb.connect(\"uvbys\", \"uvbys\", \"uvbySurvey\", \"survey\")\n",
    "cur = conn.cursor()"
   ]
  },
  {
   "cell_type": "code",
   "execution_count": 3,
   "metadata": {
    "collapsed": false
   },
   "outputs": [
    {
     "data": {
      "text/plain": [
       "10L"
      ]
     },
     "execution_count": 3,
     "metadata": {},
     "output_type": "execute_result"
    }
   ],
   "source": [
    "sql = \"select * from FileOverlap limit 10\"\n",
    "cur.execute(sql)"
   ]
  },
  {
   "cell_type": "code",
   "execution_count": 4,
   "metadata": {
    "collapsed": true
   },
   "outputs": [],
   "source": [
    "tb = cur.fetchall()"
   ]
  },
  {
   "cell_type": "code",
   "execution_count": 8,
   "metadata": {
    "collapsed": false
   },
   "outputs": [],
   "source": [
    "f1 = tb[5][1]\n",
    "f2 = tb[5][2]"
   ]
  },
  {
   "cell_type": "code",
   "execution_count": 9,
   "metadata": {
    "collapsed": false
   },
   "outputs": [
    {
     "data": {
      "text/plain": [
       "('7198N0010', '7246N0039')"
      ]
     },
     "execution_count": 9,
     "metadata": {},
     "output_type": "execute_result"
    }
   ],
   "source": [
    "f1,f2"
   ]
  },
  {
   "cell_type": "code",
   "execution_count": 11,
   "metadata": {
    "collapsed": false
   },
   "outputs": [],
   "source": [
    "sql = \"select starsn, radeg, decdeg from Stars where fileid = '%s'\" % f1\n",
    "cur.execute(sql)\n",
    "tb1 = cur.fetchall()"
   ]
  },
  {
   "cell_type": "code",
   "execution_count": 12,
   "metadata": {
    "collapsed": true
   },
   "outputs": [],
   "source": [
    "sql = \"select starsn, radeg, decdeg from Stars where fileid = '%s'\" % f2\n",
    "cur.execute(sql)\n",
    "tb2 = cur.fetchall()"
   ]
  },
  {
   "cell_type": "code",
   "execution_count": 13,
   "metadata": {
    "collapsed": false
   },
   "outputs": [
    {
     "data": {
      "text/plain": [
       "(5356, 2626)"
      ]
     },
     "execution_count": 13,
     "metadata": {},
     "output_type": "execute_result"
    }
   ],
   "source": [
    "len(tb1),len(tb2)"
   ]
  },
  {
   "cell_type": "code",
   "execution_count": 21,
   "metadata": {
    "collapsed": true
   },
   "outputs": [],
   "source": [
    "import numpy as np\n",
    "from matplotlib import pyplot as plt\n",
    "%matplotlib inline"
   ]
  },
  {
   "cell_type": "code",
   "execution_count": 15,
   "metadata": {
    "collapsed": false
   },
   "outputs": [],
   "source": [
    "list_a, list_b = tb1, tb2\n",
    "a_ra, a_dec, b_ra, b_dec = 1,2,1,2"
   ]
  },
  {
   "cell_type": "code",
   "execution_count": 16,
   "metadata": {
    "collapsed": true
   },
   "outputs": [],
   "source": [
    "    len_a = len(list_a)\n",
    "    len_b = len(list_b)"
   ]
  },
  {
   "cell_type": "code",
   "execution_count": 19,
   "metadata": {
    "collapsed": false
   },
   "outputs": [],
   "source": [
    "    ra_a = np.array([k[a_ra] for k in list_a])\n",
    "    dec_a = np.array([k[a_dec] for k in list_a])\n",
    "    ra_b = np.array([k[b_ra] for k in list_b])\n",
    "    dec_b = np.array([k[b_dec] for k in list_b])"
   ]
  },
  {
   "cell_type": "code",
   "execution_count": 22,
   "metadata": {
    "collapsed": true
   },
   "outputs": [],
   "source": [
    "    ra_scale = np.cos(np.median(dec_a) / 180.0 * np.pi)"
   ]
  },
  {
   "cell_type": "code",
   "execution_count": 25,
   "metadata": {
    "collapsed": false
   },
   "outputs": [
    {
     "data": {
      "text/plain": [
       "(array([ 286.,  291.,  314.,  310.,  315.,  232.,  228.,  212.,  236.,  202.]),\n",
       " array([ 19.352031 ,  19.4814704,  19.6109098,  19.7403492,  19.8697886,\n",
       "         19.999228 ,  20.1286674,  20.2581068,  20.3875462,  20.5169856,\n",
       "         20.646425 ]),\n",
       " <a list of 10 Patch objects>)"
      ]
     },
     "execution_count": 25,
     "metadata": {},
     "output_type": "execute_result"
    },
    {
     "data": {
      "image/png": "[encoded data removed]",
      "text/plain": [
       "<matplotlib.figure.Figure at 0x1079a2f50>"
      ]
     },
     "metadata": {},
     "output_type": "display_data"
    }
   ],
   "source": [
    "plt.hist(dec_a)\n",
    "plt.hist(dec_b)"
   ]
  },
  {
   "cell_type": "code",
   "execution_count": 26,
   "metadata": {
    "collapsed": true
   },
   "outputs": [],
   "source": [
    "    ix_a = np.argsort(dec_a)\n",
    "    ix_b = np.argsort(dec_b)"
   ]
  },
  {
   "cell_type": "code",
   "execution_count": 35,
   "metadata": {
    "collapsed": false
   },
   "outputs": [
    {
     "data": {
      "text/plain": [
       "7.2"
      ]
     },
     "execution_count": 35,
     "metadata": {},
     "output_type": "execute_result"
    }
   ],
   "source": [
    "dis_limit = 0.002\n",
    "dis_limit * 3600"
   ]
  },
  {
   "cell_type": "code",
   "execution_count": 62,
   "metadata": {
    "collapsed": false
   },
   "outputs": [],
   "source": [
    "    out_a , out_b = [] , []\n",
    "    pbf = pbt = 0  # point b from/to\n",
    "    for pa in range(len_a) :\n",
    "        ix_pa = ix_a[pa]\n",
    "        ra_p, dec_p = ra_a[ix_pa], dec_a[ix_pa]\n",
    "        # pb walk down to first position [pbf]>=[pa]-dis, [pbt]>=[pa]+dis\n",
    "        while pbf < len_b and dec_b[ix_b[pbf]] < dec_p - dis_limit : pbf += 1\n",
    "        while pbt < len_b and dec_b[ix_b[pbt]] < dec_p + dis_limit : pbt += 1\n",
    "        # exit if p2f runout\n",
    "        if pbf >= len_b : break\n",
    "        # skip if no near star\n",
    "        if pbt - pbf < 1 : continue\n",
    "        # check real distance, include ra\n",
    "        for ix_pb in ix_b[range(pbf, pbt)] :\n",
    "            dis = np.sqrt(((ra_p - ra_b[ix_pb]) * ra_scale) ** 2 + (dec_p - dec_b[ix_pb]) ** 2)\n",
    "            if dis < dis_limit :\n",
    "                out_a.append(ix_pa)\n",
    "                out_b.append(ix_pb)\n"
   ]
  },
  {
   "cell_type": "code",
   "execution_count": 63,
   "metadata": {
    "collapsed": false
   },
   "outputs": [
    {
     "data": {
      "text/plain": [
       "[<matplotlib.lines.Line2D at 0x107a5e890>]"
      ]
     },
     "execution_count": 63,
     "metadata": {},
     "output_type": "execute_result"
    },
    {
     "data": {
      "image/png": "[encoded data removed]",
      "text/plain": [
       "<matplotlib.figure.Figure at 0x1082e5410>"
      ]
     },
     "metadata": {},
     "output_type": "display_data"
    }
   ],
   "source": [
    "plt.plot(ra_a[out_a], dec_a[out_a], 'r.')\n",
    "plt.plot(ra_b[out_b], dec_b[out_b], 'g.')"
   ]
  },
  {
   "cell_type": "code",
   "execution_count": 64,
   "metadata": {
    "collapsed": true
   },
   "outputs": [],
   "source": [
    "cur.close()\n",
    "conn.close()"
   ]
  },
  {
   "cell_type": "code",
   "execution_count": null,
   "metadata": {
    "collapsed": true
   },
   "outputs": [],
   "source": []
  }
 ],
 "metadata": {
  "kernelspec": {
   "display_name": "Python 2",
   "language": "python",
   "name": "python2"
  },
  "language_info": {
   "codemirror_mode": {
    "name": "ipython",
    "version": 2
   },
   "file_extension": ".py",
   "mimetype": "text/x-python",
   "name": "python",
   "nbconvert_exporter": "python",
   "pygments_lexer": "ipython2",
   "version": "2.7.10"
  }
 },
 "nbformat": 4,
 "nbformat_minor": 0
}

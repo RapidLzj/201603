{
 "cells": [
  {
   "cell_type": "code",
   "execution_count": 55,
   "metadata": {
    "collapsed": true
   },
   "outputs": [],
   "source": [
    "import MySQLdb\n",
    "from star_match import star_match\n",
    "import numpy as np\n",
    "import astropy.stats as st\n",
    "from matplotlib import pyplot as plt\n",
    "%matplotlib inline"
   ]
  },
  {
   "cell_type": "code",
   "execution_count": 2,
   "metadata": {
    "collapsed": true
   },
   "outputs": [],
   "source": [
    "conn = MySQLdb.connect(\"localhost\", \"uvbys\", \"uvbySurvey\", \"survey\")\n",
    "cur = conn.cursor()"
   ]
  },
  {
   "cell_type": "code",
   "execution_count": 3,
   "metadata": {
    "collapsed": false
   },
   "outputs": [
    {
     "data": {
      "text/plain": [
       "10L"
      ]
     },
     "execution_count": 3,
     "metadata": {},
     "output_type": "execute_result"
    }
   ],
   "source": [
    "sql = \"select * from FileOverlap limit 10\"\n",
    "cur.execute(sql)"
   ]
  },
  {
   "cell_type": "code",
   "execution_count": 4,
   "metadata": {
    "collapsed": true
   },
   "outputs": [],
   "source": [
    "tb = cur.fetchall()"
   ]
  },
  {
   "cell_type": "code",
   "execution_count": 8,
   "metadata": {
    "collapsed": false
   },
   "outputs": [],
   "source": [
    "f1 = tb[5][1]\n",
    "f2 = tb[5][2]"
   ]
  },
  {
   "cell_type": "code",
   "execution_count": 9,
   "metadata": {
    "collapsed": false
   },
   "outputs": [
    {
     "data": {
      "text/plain": [
       "('7198N0010', '7246N0039')"
      ]
     },
     "execution_count": 9,
     "metadata": {},
     "output_type": "execute_result"
    }
   ],
   "source": [
    "f1,f2"
   ]
  },
  {
   "cell_type": "code",
   "execution_count": 11,
   "metadata": {
    "collapsed": false
   },
   "outputs": [],
   "source": [
    "sql = \"select starsn, radeg, decdeg from Stars where fileid = '%s'\" % f1\n",
    "cur.execute(sql)\n",
    "tb1 = cur.fetchall()"
   ]
  },
  {
   "cell_type": "code",
   "execution_count": 12,
   "metadata": {
    "collapsed": true
   },
   "outputs": [],
   "source": [
    "sql = \"select starsn, radeg, decdeg from Stars where fileid = '%s'\" % f2\n",
    "cur.execute(sql)\n",
    "tb2 = cur.fetchall()"
   ]
  },
  {
   "cell_type": "code",
   "execution_count": 13,
   "metadata": {
    "collapsed": false
   },
   "outputs": [
    {
     "data": {
      "text/plain": [
       "(5356, 2626)"
      ]
     },
     "execution_count": 13,
     "metadata": {},
     "output_type": "execute_result"
    }
   ],
   "source": [
    "len(tb1),len(tb2)"
   ]
  },
  {
   "cell_type": "code",
   "execution_count": 21,
   "metadata": {
    "collapsed": true
   },
   "outputs": [],
   "source": [
    "import numpy as np\n",
    "from matplotlib import pyplot as plt\n",
    "%matplotlib inline"
   ]
  },
  {
   "cell_type": "code",
   "execution_count": 15,
   "metadata": {
    "collapsed": false
   },
   "outputs": [],
   "source": [
    "list_a, list_b = tb1, tb2\n",
    "a_ra, a_dec, b_ra, b_dec = 1,2,1,2"
   ]
  },
  {
   "cell_type": "code",
   "execution_count": 20,
   "metadata": {
    "collapsed": true
   },
   "outputs": [],
   "source": [
    "list_a, list_b = tbSDSS, tbStar\n",
    "a_ra, a_dec, b_ra, b_dec,a_mag, b_mag = 1,2,1,2,3,3"
   ]
  },
  {
   "cell_type": "code",
   "execution_count": 21,
   "metadata": {
    "collapsed": false
   },
   "outputs": [
    {
     "data": {
      "text/plain": [
       "(58754, 2500)"
      ]
     },
     "execution_count": 21,
     "metadata": {},
     "output_type": "execute_result"
    }
   ],
   "source": [
    "    len_a = len(list_a)\n",
    "    len_b = len(list_b)\n",
    "    (len_a, len_b)"
   ]
  },
  {
   "cell_type": "code",
   "execution_count": 22,
   "metadata": {
    "collapsed": false
   },
   "outputs": [],
   "source": [
    "    ra_a = np.array([k[a_ra] for k in list_a])\n",
    "    dec_a = np.array([k[a_dec] for k in list_a])\n",
    "    ra_b = np.array([k[b_ra] for k in list_b])\n",
    "    dec_b = np.array([k[b_dec] for k in list_b])"
   ]
  },
  {
   "cell_type": "code",
   "execution_count": 23,
   "metadata": {
    "collapsed": true
   },
   "outputs": [],
   "source": [
    "    ra_scale = np.cos(np.median(dec_a) / 180.0 * np.pi)"
   ]
  },
  {
   "cell_type": "code",
   "execution_count": 46,
   "metadata": {
    "collapsed": false
   },
   "outputs": [
    {
     "data": {
      "text/plain": [
       "(array([ 186.,  222.,  270.,  355.,  370.,  235.,  234.,  207.,  208.,  213.]),\n",
       " array([ 11.400487 ,  11.5036343,  11.6067816,  11.7099289,  11.8130762,\n",
       "         11.9162235,  12.0193708,  12.1225181,  12.2256654,  12.3288127,\n",
       "         12.43196  ]),\n",
       " <a list of 10 Patch objects>)"
      ]
     },
     "execution_count": 46,
     "metadata": {},
     "output_type": "execute_result"
    },
    {
     "data": {
      "image/png": "[encoded data removed]",
      "text/plain": [
       "<matplotlib.figure.Figure at 0x7fdc36629490>"
      ]
     },
     "metadata": {},
     "output_type": "display_data"
    }
   ],
   "source": [
    "plt.hist(dec_a)\n",
    "plt.hist(dec_b)"
   ]
  },
  {
   "cell_type": "code",
   "execution_count": 24,
   "metadata": {
    "collapsed": true
   },
   "outputs": [],
   "source": [
    "    ix_a = np.argsort(dec_a)\n",
    "    ix_b = np.argsort(dec_b)"
   ]
  },
  {
   "cell_type": "code",
   "execution_count": 39,
   "metadata": {
    "collapsed": false
   },
   "outputs": [
    {
     "data": {
      "text/plain": [
       "3.6"
      ]
     },
     "execution_count": 39,
     "metadata": {},
     "output_type": "execute_result"
    }
   ],
   "source": [
    "dis_limit = 0.001\n",
    "dis_limit * 3600"
   ]
  },
  {
   "cell_type": "code",
   "execution_count": 40,
   "metadata": {
    "collapsed": false
   },
   "outputs": [],
   "source": [
    "    out_a , out_b = [] , []\n",
    "    dis_ab, ra_ab, dec_ab = [], [], []\n",
    "    pbf = pbt = 0  # point b from/to\n",
    "    for pa in range(len_a) :\n",
    "        ix_pa = ix_a[pa]\n",
    "        ra_p, dec_p = ra_a[ix_pa], dec_a[ix_pa]\n",
    "        # pb walk down to first position [pbf]>=[pa]-dis, [pbt]>=[pa]+dis\n",
    "        while pbf < len_b and dec_b[ix_b[pbf]] < dec_p - dis_limit : pbf += 1\n",
    "        while pbt < len_b and dec_b[ix_b[pbt]] < dec_p + dis_limit : pbt += 1\n",
    "        # exit if p2f runout\n",
    "        if pbf >= len_b : break\n",
    "        # skip if no near star\n",
    "        if pbt - pbf < 1 : continue\n",
    "        # check real distance, include ra\n",
    "        for ix_pb in ix_b[range(pbf, pbt)] :\n",
    "            d_ra = ra_p - ra_b[ix_pb]\n",
    "            d_dec = dec_p - dec_b[ix_pb]\n",
    "            dis = np.sqrt((d_ra * ra_scale) ** 2 + d_dec ** 2)\n",
    "            if dis < dis_limit :\n",
    "                out_a.append(ix_pa)\n",
    "                out_b.append(ix_pb)\n",
    "                dis_ab.append(dis * 3600.0)\n",
    "                ra_ab.append(d_ra * 3600.0)\n",
    "                dec_ab.append(d_dec * 3600.0)\n"
   ]
  },
  {
   "cell_type": "code",
   "execution_count": 41,
   "metadata": {
    "collapsed": false
   },
   "outputs": [
    {
     "data": {
      "text/plain": [
       "[<matplotlib.lines.Line2D at 0x7f107f4edd90>]"
      ]
     },
     "execution_count": 41,
     "metadata": {},
     "output_type": "execute_result"
    },
    {
     "data": {
      "image/png": "[encoded data removed]",
      "text/plain": [
       "<matplotlib.figure.Figure at 0x7f107f4ed7d0>"
      ]
     },
     "metadata": {},
     "output_type": "display_data"
    }
   ],
   "source": [
    "plt.plot(ra_a[out_a], dec_a[out_a], 'r.')\n",
    "plt.plot(ra_b[out_b], dec_b[out_b], 'g.')"
   ]
  },
  {
   "cell_type": "code",
   "execution_count": 42,
   "metadata": {
    "collapsed": false
   },
   "outputs": [
    {
     "data": {
      "text/plain": [
       "(array([  2.,   8.,   9.,  10.,  34.,  16.,  36.,  41.,  34.,  30.,  37.,\n",
       "         30.,  31.,  33.,  44.,  40.,  46.,  54.,  36.,  42.,  83.,  72.,\n",
       "         71.,  70.,  51.,  55.,  44.,  52.,  52.,  36.,  50.,  41.,  33.,\n",
       "         37.,  31.,  30.,  32.,  27.,  46.,  38.,  38.,  35.,  34.,  18.,\n",
       "         15.,  14.,  14.,   9.,   9.,   3.]),\n",
       " array([-3.56553799, -3.42315632, -3.28077466, -3.13839299, -2.99601132,\n",
       "        -2.85362966, -2.71124799, -2.56886632, -2.42648465, -2.28410299,\n",
       "        -2.14172132, -1.99933965, -1.85695799, -1.71457632, -1.57219465,\n",
       "        -1.42981298, -1.28743132, -1.14504965, -1.00266798, -0.86028632,\n",
       "        -0.71790465, -0.57552298, -0.43314131, -0.29075965, -0.14837798,\n",
       "        -0.00599631,  0.13638535,  0.27876702,  0.42114869,  0.56353036,\n",
       "         0.70591202,  0.84829369,  0.99067536,  1.13305702,  1.27543869,\n",
       "         1.41782036,  1.56020203,  1.70258369,  1.84496536,  1.98734703,\n",
       "         2.12972869,  2.27211036,  2.41449203,  2.5568737 ,  2.69925536,\n",
       "         2.84163703,  2.9840187 ,  3.12640037,  3.26878203,  3.4111637 ,\n",
       "         3.55354537]),\n",
       " <a list of 50 Patch objects>)"
      ]
     },
     "execution_count": 42,
     "metadata": {},
     "output_type": "execute_result"
    },
    {
     "data": {
      "image/png": "[encoded data removed]",
      "text/plain": [
       "<matplotlib.figure.Figure at 0x7f107f432090>"
      ]
     },
     "metadata": {},
     "output_type": "display_data"
    }
   ],
   "source": [
    "plt.hist(ra_ab, bins=50)\n",
    "plt.hist(dec_ab, bins=50)"
   ]
  },
  {
   "cell_type": "code",
   "execution_count": 43,
   "metadata": {
    "collapsed": false
   },
   "outputs": [
    {
     "data": {
      "text/plain": [
       "[<matplotlib.lines.Line2D at 0x7f107f08f610>]"
      ]
     },
     "execution_count": 43,
     "metadata": {},
     "output_type": "execute_result"
    },
    {
     "data": {
      "image/png": "[encoded data removed]",
      "text/plain": [
       "<matplotlib.figure.Figure at 0x7f107f4905d0>"
      ]
     },
     "metadata": {},
     "output_type": "display_data"
    }
   ],
   "source": [
    "plt.plot(ra_ab, dec_ab, '.')"
   ]
  },
  {
   "cell_type": "code",
   "execution_count": 44,
   "metadata": {
    "collapsed": false
   },
   "outputs": [
    {
     "data": {
      "text/plain": [
       "(58754, 2500)"
      ]
     },
     "execution_count": 44,
     "metadata": {},
     "output_type": "execute_result"
    }
   ],
   "source": [
    "mag_a = np.array([k[a_mag] for k in list_a])\n",
    "mag_b = np.array([k[b_mag] for k in list_b])\n",
    "len(mag_a), len(mag_b)"
   ]
  },
  {
   "cell_type": "code",
   "execution_count": 58,
   "metadata": {
    "collapsed": false
   },
   "outputs": [
    {
     "data": {
      "text/plain": [
       "(1753, 2.7368705476326296, 4.4866353113236075)"
      ]
     },
     "execution_count": 58,
     "metadata": {},
     "output_type": "execute_result"
    },
    {
     "data": {
      "image/png": "[encoded data removed]",
      "text/plain": [
       "<matplotlib.figure.Figure at 0x7f107ebcc6d0>"
      ]
     },
     "metadata": {},
     "output_type": "display_data"
    }
   ],
   "source": [
    "mag_diff = mag_a[out_a] - mag_b[out_b]\n",
    "std = mag_diff.std()\n",
    "mea = mag_diff.mean()\n",
    "plt.hist(mag_diff, bins=100, range=(0,6))\n",
    "len(mag_diff), mea, std"
   ]
  },
  {
   "cell_type": "code",
   "execution_count": 63,
   "metadata": {
    "collapsed": true
   },
   "outputs": [],
   "source": [
    "import scipy.stats as ss"
   ]
  },
  {
   "cell_type": "code",
   "execution_count": 77,
   "metadata": {
    "collapsed": false
   },
   "outputs": [
    {
     "name": "stdout",
     "output_type": "stream",
     "text": [
      "(1621, 0.479804254023455, 2.5849183837137568, 0.18589711359648176, 4.9839396538310314)\n",
      "(1343, 0.16671294856402155, 2.4295673119880838, 1.9294284662960193, 2.9297061576801484)\n"
     ]
    },
    {
     "data": {
      "text/plain": [
       "(1.9294284662960193, 2.9297061576801484)"
      ]
     },
     "execution_count": 77,
     "metadata": {},
     "output_type": "execute_result"
    },
    {
     "data": {
      "image/png": "[encoded data removed]",
      "text/plain": [
       "<matplotlib.figure.Figure at 0x7f107ee93610>"
      ]
     },
     "metadata": {},
     "output_type": "display_data"
    }
   ],
   "source": [
    "#md,ma=st.funcs.sigma_clip(mag_diff, 2, 5)\n",
    "#md.std()\n",
    "md,ml,mh = ss.sigmaclip(mag_diff,5,5)\n",
    "plt.hist(md, bins=25)\n",
    "print (len(md),md.std(),md.mean(),ml,mh)\n",
    "md2,ml2,mh2 = ss.sigmaclip(mag_diff, 3, 3)\n",
    "print(len(md2),md2.std(),md2.mean(),ml2,mh2)\n",
    "md2.mean()-3*md2.std(),md2.mean()+3*md2.std()"
   ]
  },
  {
   "cell_type": "code",
   "execution_count": 46,
   "metadata": {
    "collapsed": false
   },
   "outputs": [
    {
     "data": {
      "text/plain": [
       "13.459905933970823"
      ]
     },
     "execution_count": 46,
     "metadata": {},
     "output_type": "execute_result"
    }
   ],
   "source": [
    "mag_limit = -3\n",
    "mag_limit_x = - std * mag_limit if mag_limit < 0 else mag_limit\n",
    "mag_limit_x"
   ]
  },
  {
   "cell_type": "code",
   "execution_count": 47,
   "metadata": {
    "collapsed": false
   },
   "outputs": [
    {
     "name": "stdout",
     "output_type": "stream",
     "text": [
      "(1753, 57292, 2493, 1, 1749, 100)\n"
     ]
    }
   ],
   "source": [
    "ix_m = np.where(np.abs(mag_diff-mag_diff.mean()) < mag_limit_x)\n",
    "print (len(mag_diff), max(out_a), max(out_b), len(ix_m), len(ix_m[0]), ix_m[0][100])"
   ]
  },
  {
   "cell_type": "code",
   "execution_count": 98,
   "metadata": {
    "collapsed": false
   },
   "outputs": [
    {
     "data": {
      "text/plain": [
       "((array([   0,    1,    2, ..., 2565, 2566, 2567]),), 0, 2567, 200, 877)"
      ]
     },
     "execution_count": 98,
     "metadata": {},
     "output_type": "execute_result"
    }
   ],
   "source": [
    "ix_m, min(ix_m[0]), max(ix_m[0]), ix_m[0][200], out_b[ix_m[0][200]]"
   ]
  },
  {
   "cell_type": "code",
   "execution_count": 48,
   "metadata": {
    "collapsed": false
   },
   "outputs": [],
   "source": [
    "out_ax = [out_a[i] for i in ix_m[0]]\n",
    "out_bx = [out_b[i] for i in ix_m[0]]"
   ]
  },
  {
   "cell_type": "code",
   "execution_count": 49,
   "metadata": {
    "collapsed": false
   },
   "outputs": [
    {
     "name": "stdout",
     "output_type": "stream",
     "text": [
      "(0, 37068)\n",
      "(1, 34489)\n",
      "(2, 32873)\n",
      "(3, 17885)\n",
      "(4, 33856)\n",
      "(5, 33846)\n",
      "(6, 16806)\n",
      "(7, 36079)\n",
      "(8, 37091)\n",
      "(9, 17329)\n",
      "(10, 35883)\n"
     ]
    }
   ],
   "source": [
    "out_ax = []\n",
    "for i in ix_m[0]:\n",
    "    print (i, out_a[i])\n",
    "    out_ax.append(out_a[i])\n",
    "    if len(out_ax) > 10 : break;"
   ]
  },
  {
   "cell_type": "code",
   "execution_count": 21,
   "metadata": {
    "collapsed": true
   },
   "outputs": [],
   "source": [
    "cur.close()\n",
    "conn.close()"
   ]
  },
  {
   "cell_type": "markdown",
   "metadata": {
    "collapsed": true
   },
   "source": [
    "# test match Stars with M67"
   ]
  },
  {
   "cell_type": "code",
   "execution_count": 107,
   "metadata": {
    "collapsed": true
   },
   "outputs": [],
   "source": [
    "from star_match import star_match"
   ]
  },
  {
   "cell_type": "code",
   "execution_count": 3,
   "metadata": {
    "collapsed": false
   },
   "outputs": [
    {
     "name": "stdout",
     "output_type": "stream",
     "text": [
      "58754\n"
     ]
    }
   ],
   "source": [
    "sql = \"select ObjID, RAdeg, Decdeg, magu from SDSSnearM67\"\n",
    "print (cur.execute(sql))\n",
    "tbSDSS = cur.fetchall()"
   ]
  },
  {
   "cell_type": "code",
   "execution_count": 4,
   "metadata": {
    "collapsed": true
   },
   "outputs": [],
   "source": [
    "sdss_ra = np.array([row[1] for row in tbSDSS])\n",
    "sdss_dec = np.array([row[2] for row in tbSDSS])\n",
    "sdss_u = [row[3] for row in tbSDSS]"
   ]
  },
  {
   "cell_type": "code",
   "execution_count": 25,
   "metadata": {
    "collapsed": false
   },
   "outputs": [
    {
     "data": {
      "text/plain": [
       "[<matplotlib.lines.Line2D at 0x7fdc36e0e5d0>]"
      ]
     },
     "execution_count": 25,
     "metadata": {},
     "output_type": "execute_result"
    },
    {
     "data": {
      "image/png": "[encoded data removed]",
      "text/plain": [
       "<matplotlib.figure.Figure at 0x7fdc36db4050>"
      ]
     },
     "metadata": {},
     "output_type": "display_data"
    }
   ],
   "source": [
    "plt.plot(sdss_ra, sdss_dec, '.')"
   ]
  },
  {
   "cell_type": "code",
   "execution_count": 26,
   "metadata": {
    "collapsed": false
   },
   "outputs": [
    {
     "data": {
      "text/plain": [
       "(132.478281799328, 134.181815143794, 11.1670672854582, 12.8328645025338)"
      ]
     },
     "execution_count": 26,
     "metadata": {},
     "output_type": "execute_result"
    }
   ],
   "source": [
    "min(sdss_ra), max(sdss_ra), min(sdss_dec), max(sdss_dec)"
   ]
  },
  {
   "cell_type": "code",
   "execution_count": 5,
   "metadata": {
    "collapsed": false
   },
   "outputs": [
    {
     "name": "stdout",
     "output_type": "stream",
     "text": [
      "151\n"
     ]
    }
   ],
   "source": [
    "sql = \"select fileid, filtercode, exptime, (select count(*) from Stars where fileid=m67.fileid) as cnt from m67\"\n",
    "print (cur.execute(sql))\n",
    "tbM67 = cur.fetchall()"
   ]
  },
  {
   "cell_type": "code",
   "execution_count": 6,
   "metadata": {
    "collapsed": false
   },
   "outputs": [],
   "source": [
    "file_id = [row[0] for row in tbM67 if row[3] > 0]\n",
    "filter_code = [row[1] for row in tbM67 if row[3] > 0]\n",
    "exp_time = [row[2] for row in tbM67 if row[3] > 0]\n",
    "star_cnt = [row[3] for row in tbM67 if row[3] > 0]"
   ]
  },
  {
   "cell_type": "code",
   "execution_count": 7,
   "metadata": {
    "collapsed": false
   },
   "outputs": [
    {
     "name": "stdout",
     "output_type": "stream",
     "text": [
      "2500\n",
      "2563\n"
     ]
    },
    {
     "data": {
      "image/png": "[encoded data removed]",
      "text/plain": [
       "<matplotlib.figure.Figure at 0x7f1086238250>"
      ]
     },
     "metadata": {},
     "output_type": "display_data"
    }
   ],
   "source": [
    "f = file_id[30]\n",
    "if f:\n",
    "    sql = \"select StarCode, RADeg, DecDeg, MagAuto, MagCorr, MagAutoErr from Stars where FileID = '%s'\" % f\n",
    "    print (cur.execute(sql))\n",
    "    tbStar = cur.fetchall()\n",
    "    my_ra = [row[1] for row in tbStar]\n",
    "    my_dec = [row[2] for row in tbStar]\n",
    "    plt.plot(my_ra, my_dec, '.')\n",
    "    ix_sdss, ix_my = star_match(tbSDSS, tbStar, 1, 2, 1, 2, 3, 3)\n",
    "    print (len(ix_my))\n",
    "    plt.plot(sdss_ra[ix_sdss], sdss_dec[ix_sdss], '.')\n",
    "    \n"
   ]
  },
  {
   "cell_type": "code",
   "execution_count": 17,
   "metadata": {
    "collapsed": false
   },
   "outputs": [],
   "source": [
    "ix_sdss, ix_my = star_match(tbSDSS, tbStar, 1, 2, 1, 2, 3, 3, mag_limit=2.0)"
   ]
  },
  {
   "cell_type": "code",
   "execution_count": 18,
   "metadata": {
    "collapsed": false
   },
   "outputs": [],
   "source": [
    "ix_my2 = sorted(ix_my)\n",
    "ix_sd2 = sorted(ix_sdss)"
   ]
  },
  {
   "cell_type": "code",
   "execution_count": 50,
   "metadata": {
    "collapsed": false
   },
   "outputs": [
    {
     "data": {
      "text/plain": [
       "(87, 33)"
      ]
     },
     "execution_count": 50,
     "metadata": {},
     "output_type": "execute_result"
    }
   ],
   "source": [
    "cmy = csd = 0\n",
    "for i in range(1,len(ix_my2)):\n",
    "    if ix_my2[i-1]==ix_my2[i]:\n",
    "        cmy += 1\n",
    "        #print ('my', cmy, i, ix_my2[i])\n",
    "    if ix_sd2[i-1]==ix_sd2[i]:\n",
    "        csd += 1\n",
    "        #print ('sdss', csd, i, ix_sd2[i])\n",
    "cmy, csd"
   ]
  },
  {
   "cell_type": "code",
   "execution_count": 86,
   "metadata": {
    "collapsed": false
   },
   "outputs": [
    {
     "data": {
      "text/plain": [
       "1880"
      ]
     },
     "execution_count": 86,
     "metadata": {},
     "output_type": "execute_result"
    }
   ],
   "source": [
    "uq_my = np.unique(ix_my2)\n",
    "cnt_my = [(ix_my2 == u).sum() for u in uq_my]\n",
    "len(uq_my)"
   ]
  },
  {
   "cell_type": "code",
   "execution_count": 87,
   "metadata": {
    "collapsed": false
   },
   "outputs": [],
   "source": [
    "t = np.arange(10)"
   ]
  },
  {
   "cell_type": "code",
   "execution_count": 92,
   "metadata": {
    "collapsed": false
   },
   "outputs": [
    {
     "data": {
      "text/plain": [
       "6"
      ]
     },
     "execution_count": 92,
     "metadata": {},
     "output_type": "execute_result"
    }
   ],
   "source": [
    "t[np.where(t > 5)].min()"
   ]
  },
  {
   "cell_type": "code",
   "execution_count": 101,
   "metadata": {
    "collapsed": false
   },
   "outputs": [
    {
     "data": {
      "text/plain": [
       "array([0, 1, 2, 5, 6, 7, 8, 9])"
      ]
     },
     "execution_count": 101,
     "metadata": {},
     "output_type": "execute_result"
    }
   ],
   "source": [
    "np.delete(t, [3,4])"
   ]
  },
  {
   "cell_type": "code",
   "execution_count": 102,
   "metadata": {
    "collapsed": false
   },
   "outputs": [
    {
     "data": {
      "text/plain": [
       "0"
      ]
     },
     "execution_count": 102,
     "metadata": {},
     "output_type": "execute_result"
    }
   ],
   "source": [
    "t[t.argmin()]"
   ]
  },
  {
   "cell_type": "code",
   "execution_count": null,
   "metadata": {
    "collapsed": true
   },
   "outputs": [],
   "source": []
  }
 ],
 "metadata": {
  "kernelspec": {
   "display_name": "Python 2",
   "language": "python",
   "name": "python2"
  },
  "language_info": {
   "codemirror_mode": {
    "name": "ipython",
    "version": 2
   },
   "file_extension": ".py",
   "mimetype": "text/x-python",
   "name": "python",
   "nbconvert_exporter": "python",
   "pygments_lexer": "ipython2",
   "version": "2.7.6"
  }
 },
 "nbformat": 4,
 "nbformat_minor": 0
}
